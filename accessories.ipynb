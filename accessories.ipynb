{
 "cells": [
  {
   "cell_type": "code",
   "execution_count": 2,
   "metadata": {},
   "outputs": [],
   "source": [
    "# bringing in the modules\n",
    "import pandas as pd\n",
    "import numpy as np\n",
    "import matplotlib.pyplot as plt"
   ]
  },
  {
   "cell_type": "code",
   "execution_count": 3,
   "metadata": {},
   "outputs": [
    {
     "data": {
      "text/html": [
       "<div>\n",
       "<style scoped>\n",
       "    .dataframe tbody tr th:only-of-type {\n",
       "        vertical-align: middle;\n",
       "    }\n",
       "\n",
       "    .dataframe tbody tr th {\n",
       "        vertical-align: top;\n",
       "    }\n",
       "\n",
       "    .dataframe thead th {\n",
       "        text-align: right;\n",
       "    }\n",
       "</style>\n",
       "<table border=\"1\" class=\"dataframe\">\n",
       "  <thead>\n",
       "    <tr style=\"text-align: right;\">\n",
       "      <th></th>\n",
       "      <th>Name</th>\n",
       "      <th>Variation</th>\n",
       "      <th>DIY</th>\n",
       "      <th>Buy</th>\n",
       "      <th>Sell</th>\n",
       "      <th>Source_</th>\n",
       "      <th>Seasonal Availability</th>\n",
       "      <th>Style</th>\n",
       "      <th>Type</th>\n",
       "      <th>Catalog</th>\n",
       "      <th>Filename</th>\n",
       "    </tr>\n",
       "  </thead>\n",
       "  <tbody>\n",
       "    <tr>\n",
       "      <th>0</th>\n",
       "      <td>3D glasses</td>\n",
       "      <td>White</td>\n",
       "      <td>No</td>\n",
       "      <td>490</td>\n",
       "      <td>122</td>\n",
       "      <td>Able Sisters</td>\n",
       "      <td>All Year</td>\n",
       "      <td>Active</td>\n",
       "      <td>AccessoryEye</td>\n",
       "      <td>For sale</td>\n",
       "      <td>AccessoryGlassThreed0</td>\n",
       "    </tr>\n",
       "    <tr>\n",
       "      <th>1</th>\n",
       "      <td>3D glasses</td>\n",
       "      <td>Black</td>\n",
       "      <td>No</td>\n",
       "      <td>490</td>\n",
       "      <td>122</td>\n",
       "      <td>Able Sisters</td>\n",
       "      <td>All Year</td>\n",
       "      <td>Active</td>\n",
       "      <td>AccessoryEye</td>\n",
       "      <td>For sale</td>\n",
       "      <td>AccessoryGlassThreed1</td>\n",
       "    </tr>\n",
       "    <tr>\n",
       "      <th>2</th>\n",
       "      <td>bandage</td>\n",
       "      <td>Beige</td>\n",
       "      <td>No</td>\n",
       "      <td>140</td>\n",
       "      <td>35</td>\n",
       "      <td>Able Sisters</td>\n",
       "      <td>All Year</td>\n",
       "      <td>Active</td>\n",
       "      <td>AccessoryMouth</td>\n",
       "      <td>For sale</td>\n",
       "      <td>AccessoryMouthBandageSkin</td>\n",
       "    </tr>\n",
       "    <tr>\n",
       "      <th>3</th>\n",
       "      <td>beak</td>\n",
       "      <td>Yellow</td>\n",
       "      <td>No</td>\n",
       "      <td>490</td>\n",
       "      <td>122</td>\n",
       "      <td>Able Sisters</td>\n",
       "      <td>All Year</td>\n",
       "      <td>Cute</td>\n",
       "      <td>AccessoryMouthInvisibleNose</td>\n",
       "      <td>For sale</td>\n",
       "      <td>AccessoryMouthBeakYellow</td>\n",
       "    </tr>\n",
       "    <tr>\n",
       "      <th>4</th>\n",
       "      <td>birthday shades</td>\n",
       "      <td>Yellow</td>\n",
       "      <td>No</td>\n",
       "      <td>2000</td>\n",
       "      <td>620</td>\n",
       "      <td>Birthday</td>\n",
       "      <td>All Year</td>\n",
       "      <td>Gorgeous</td>\n",
       "      <td>AccessoryEye</td>\n",
       "      <td>Not for sale</td>\n",
       "      <td>AccessoryGlassBirthday0</td>\n",
       "    </tr>\n",
       "  </tbody>\n",
       "</table>\n",
       "</div>"
      ],
      "text/plain": [
       "              Name Variation DIY   Buy  Sell       Source_  \\\n",
       "0       3D glasses     White  No   490   122  Able Sisters   \n",
       "1       3D glasses     Black  No   490   122  Able Sisters   \n",
       "2          bandage     Beige  No   140    35  Able Sisters   \n",
       "3             beak    Yellow  No   490   122  Able Sisters   \n",
       "4  birthday shades    Yellow  No  2000   620      Birthday   \n",
       "\n",
       "  Seasonal Availability     Style                         Type       Catalog  \\\n",
       "0              All Year    Active                 AccessoryEye      For sale   \n",
       "1              All Year    Active                 AccessoryEye      For sale   \n",
       "2              All Year    Active               AccessoryMouth      For sale   \n",
       "3              All Year      Cute  AccessoryMouthInvisibleNose      For sale   \n",
       "4              All Year  Gorgeous                 AccessoryEye  Not for sale   \n",
       "\n",
       "                    Filename  \n",
       "0      AccessoryGlassThreed0  \n",
       "1      AccessoryGlassThreed1  \n",
       "2  AccessoryMouthBandageSkin  \n",
       "3   AccessoryMouthBeakYellow  \n",
       "4    AccessoryGlassBirthday0  "
      ]
     },
     "execution_count": 3,
     "metadata": {},
     "output_type": "execute_result"
    }
   ],
   "source": [
    "# importing the dataset into vscode\n",
    "ace = pd.read_csv(\"./accessories.csv\")\n",
    "ace.head()"
   ]
  },
  {
   "cell_type": "code",
   "execution_count": 4,
   "metadata": {},
   "outputs": [
    {
     "data": {
      "text/plain": [
       "(222, 11)"
      ]
     },
     "execution_count": 4,
     "metadata": {},
     "output_type": "execute_result"
    }
   ],
   "source": [
    "# check the shape of the dataset\n",
    "ace.shape"
   ]
  },
  {
   "cell_type": "code",
   "execution_count": 5,
   "metadata": {},
   "outputs": [
    {
     "name": "stdout",
     "output_type": "stream",
     "text": [
      "<class 'pandas.core.frame.DataFrame'>\n",
      "RangeIndex: 222 entries, 0 to 221\n",
      "Data columns (total 11 columns):\n",
      " #   Column                 Non-Null Count  Dtype \n",
      "---  ------                 --------------  ----- \n",
      " 0   Name                   222 non-null    object\n",
      " 1   Variation              222 non-null    object\n",
      " 2   DIY                    222 non-null    object\n",
      " 3   Buy                    222 non-null    int64 \n",
      " 4   Sell                   222 non-null    int64 \n",
      " 5   Source_                222 non-null    object\n",
      " 6   Seasonal Availability  222 non-null    object\n",
      " 7   Style                  222 non-null    object\n",
      " 8   Type                   222 non-null    object\n",
      " 9   Catalog                222 non-null    object\n",
      " 10  Filename               222 non-null    object\n",
      "dtypes: int64(2), object(9)\n",
      "memory usage: 19.2+ KB\n"
     ]
    }
   ],
   "source": [
    "# get the metadata from the dataset\n",
    "ace.info()"
   ]
  },
  {
   "cell_type": "code",
   "execution_count": 6,
   "metadata": {},
   "outputs": [
    {
     "data": {
      "text/plain": [
       "0"
      ]
     },
     "execution_count": 6,
     "metadata": {},
     "output_type": "execute_result"
    }
   ],
   "source": [
    "# check for total number of duplicates\n",
    "ace.duplicated().sum()"
   ]
  },
  {
   "cell_type": "code",
   "execution_count": 7,
   "metadata": {},
   "outputs": [
    {
     "data": {
      "text/html": [
       "<div>\n",
       "<style scoped>\n",
       "    .dataframe tbody tr th:only-of-type {\n",
       "        vertical-align: middle;\n",
       "    }\n",
       "\n",
       "    .dataframe tbody tr th {\n",
       "        vertical-align: top;\n",
       "    }\n",
       "\n",
       "    .dataframe thead th {\n",
       "        text-align: right;\n",
       "    }\n",
       "</style>\n",
       "<table border=\"1\" class=\"dataframe\">\n",
       "  <thead>\n",
       "    <tr style=\"text-align: right;\">\n",
       "      <th></th>\n",
       "      <th>Name</th>\n",
       "      <th>Variation</th>\n",
       "      <th>DIY</th>\n",
       "      <th>Buy</th>\n",
       "      <th>Sell</th>\n",
       "      <th>Source_</th>\n",
       "      <th>Seasonal Availability</th>\n",
       "      <th>Style</th>\n",
       "      <th>Type</th>\n",
       "      <th>Catalog</th>\n",
       "      <th>Filename</th>\n",
       "    </tr>\n",
       "  </thead>\n",
       "  <tbody>\n",
       "    <tr>\n",
       "      <th>0</th>\n",
       "      <td>3D glasses</td>\n",
       "      <td>White</td>\n",
       "      <td>No</td>\n",
       "      <td>490</td>\n",
       "      <td>122</td>\n",
       "      <td>Able Sisters</td>\n",
       "      <td>All Year</td>\n",
       "      <td>Active</td>\n",
       "      <td>AccessoryEye</td>\n",
       "      <td>For sale</td>\n",
       "      <td>AccessoryGlassThreed0</td>\n",
       "    </tr>\n",
       "    <tr>\n",
       "      <th>1</th>\n",
       "      <td>3D glasses</td>\n",
       "      <td>Black</td>\n",
       "      <td>No</td>\n",
       "      <td>490</td>\n",
       "      <td>122</td>\n",
       "      <td>Able Sisters</td>\n",
       "      <td>All Year</td>\n",
       "      <td>Active</td>\n",
       "      <td>AccessoryEye</td>\n",
       "      <td>For sale</td>\n",
       "      <td>AccessoryGlassThreed1</td>\n",
       "    </tr>\n",
       "    <tr>\n",
       "      <th>2</th>\n",
       "      <td>bandage</td>\n",
       "      <td>Beige</td>\n",
       "      <td>No</td>\n",
       "      <td>140</td>\n",
       "      <td>35</td>\n",
       "      <td>Able Sisters</td>\n",
       "      <td>All Year</td>\n",
       "      <td>Active</td>\n",
       "      <td>AccessoryMouth</td>\n",
       "      <td>For sale</td>\n",
       "      <td>AccessoryMouthBandageSkin</td>\n",
       "    </tr>\n",
       "    <tr>\n",
       "      <th>3</th>\n",
       "      <td>beak</td>\n",
       "      <td>Yellow</td>\n",
       "      <td>No</td>\n",
       "      <td>490</td>\n",
       "      <td>122</td>\n",
       "      <td>Able Sisters</td>\n",
       "      <td>All Year</td>\n",
       "      <td>Cute</td>\n",
       "      <td>AccessoryMouthInvisibleNose</td>\n",
       "      <td>For sale</td>\n",
       "      <td>AccessoryMouthBeakYellow</td>\n",
       "    </tr>\n",
       "    <tr>\n",
       "      <th>4</th>\n",
       "      <td>birthday shades</td>\n",
       "      <td>Yellow</td>\n",
       "      <td>No</td>\n",
       "      <td>2000</td>\n",
       "      <td>620</td>\n",
       "      <td>Birthday</td>\n",
       "      <td>All Year</td>\n",
       "      <td>Gorgeous</td>\n",
       "      <td>AccessoryEye</td>\n",
       "      <td>Not for sale</td>\n",
       "      <td>AccessoryGlassBirthday0</td>\n",
       "    </tr>\n",
       "  </tbody>\n",
       "</table>\n",
       "</div>"
      ],
      "text/plain": [
       "              Name Variation DIY   Buy  Sell       Source_  \\\n",
       "0       3D glasses     White  No   490   122  Able Sisters   \n",
       "1       3D glasses     Black  No   490   122  Able Sisters   \n",
       "2          bandage     Beige  No   140    35  Able Sisters   \n",
       "3             beak    Yellow  No   490   122  Able Sisters   \n",
       "4  birthday shades    Yellow  No  2000   620      Birthday   \n",
       "\n",
       "  Seasonal Availability     Style                         Type       Catalog  \\\n",
       "0              All Year    Active                 AccessoryEye      For sale   \n",
       "1              All Year    Active                 AccessoryEye      For sale   \n",
       "2              All Year    Active               AccessoryMouth      For sale   \n",
       "3              All Year      Cute  AccessoryMouthInvisibleNose      For sale   \n",
       "4              All Year  Gorgeous                 AccessoryEye  Not for sale   \n",
       "\n",
       "                    Filename  \n",
       "0      AccessoryGlassThreed0  \n",
       "1      AccessoryGlassThreed1  \n",
       "2  AccessoryMouthBandageSkin  \n",
       "3   AccessoryMouthBeakYellow  \n",
       "4    AccessoryGlassBirthday0  "
      ]
     },
     "execution_count": 7,
     "metadata": {},
     "output_type": "execute_result"
    }
   ],
   "source": [
    "# remove duplicate values if there are any\n",
    "ace.drop_duplicates(inplace = True)\n",
    "ace.head()"
   ]
  },
  {
   "cell_type": "code",
   "execution_count": 8,
   "metadata": {},
   "outputs": [
    {
     "data": {
      "text/plain": [
       "Name                     0\n",
       "Variation                0\n",
       "DIY                      0\n",
       "Buy                      0\n",
       "Sell                     0\n",
       "Source_                  0\n",
       "Seasonal Availability    0\n",
       "Style                    0\n",
       "Type                     0\n",
       "Catalog                  0\n",
       "Filename                 0\n",
       "dtype: int64"
      ]
     },
     "execution_count": 8,
     "metadata": {},
     "output_type": "execute_result"
    }
   ],
   "source": [
    "# check for the total number of null values\n",
    "ace.isnull().sum()"
   ]
  },
  {
   "cell_type": "code",
   "execution_count": 9,
   "metadata": {},
   "outputs": [
    {
     "data": {
      "text/html": [
       "<div>\n",
       "<style scoped>\n",
       "    .dataframe tbody tr th:only-of-type {\n",
       "        vertical-align: middle;\n",
       "    }\n",
       "\n",
       "    .dataframe tbody tr th {\n",
       "        vertical-align: top;\n",
       "    }\n",
       "\n",
       "    .dataframe thead th {\n",
       "        text-align: right;\n",
       "    }\n",
       "</style>\n",
       "<table border=\"1\" class=\"dataframe\">\n",
       "  <thead>\n",
       "    <tr style=\"text-align: right;\">\n",
       "      <th></th>\n",
       "      <th>Name</th>\n",
       "      <th>Variation</th>\n",
       "      <th>DIY</th>\n",
       "      <th>Buy</th>\n",
       "      <th>Sell</th>\n",
       "      <th>Source_</th>\n",
       "      <th>Seasonal Availability</th>\n",
       "      <th>Style</th>\n",
       "      <th>Type</th>\n",
       "      <th>Catalog</th>\n",
       "      <th>Filename</th>\n",
       "    </tr>\n",
       "  </thead>\n",
       "  <tbody>\n",
       "  </tbody>\n",
       "</table>\n",
       "</div>"
      ],
      "text/plain": [
       "Empty DataFrame\n",
       "Columns: [Name, Variation, DIY, Buy, Sell, Source_, Seasonal Availability, Style, Type, Catalog, Filename]\n",
       "Index: []"
      ]
     },
     "execution_count": 9,
     "metadata": {},
     "output_type": "execute_result"
    }
   ],
   "source": [
    "# see the null values in the dataset if there are any\n",
    "null_ace = ace[ace.isnull().any(axis = 1)]\n",
    "null_ace "
   ]
  },
  {
   "cell_type": "code",
   "execution_count": 10,
   "metadata": {},
   "outputs": [
    {
     "data": {
      "text/html": [
       "<div>\n",
       "<style scoped>\n",
       "    .dataframe tbody tr th:only-of-type {\n",
       "        vertical-align: middle;\n",
       "    }\n",
       "\n",
       "    .dataframe tbody tr th {\n",
       "        vertical-align: top;\n",
       "    }\n",
       "\n",
       "    .dataframe thead th {\n",
       "        text-align: right;\n",
       "    }\n",
       "</style>\n",
       "<table border=\"1\" class=\"dataframe\">\n",
       "  <thead>\n",
       "    <tr style=\"text-align: right;\">\n",
       "      <th></th>\n",
       "      <th>Name</th>\n",
       "      <th>Variation</th>\n",
       "      <th>DIY</th>\n",
       "      <th>Buy</th>\n",
       "      <th>Sell</th>\n",
       "      <th>Source_</th>\n",
       "      <th>Seasonal Availability</th>\n",
       "      <th>Style</th>\n",
       "      <th>Type</th>\n",
       "      <th>Catalog</th>\n",
       "      <th>Filename</th>\n",
       "    </tr>\n",
       "  </thead>\n",
       "  <tbody>\n",
       "    <tr>\n",
       "      <th>0</th>\n",
       "      <td>3D glasses</td>\n",
       "      <td>White</td>\n",
       "      <td>No</td>\n",
       "      <td>490</td>\n",
       "      <td>122</td>\n",
       "      <td>Able Sisters</td>\n",
       "      <td>All Year</td>\n",
       "      <td>Active</td>\n",
       "      <td>AccessoryEye</td>\n",
       "      <td>For sale</td>\n",
       "      <td>AccessoryGlassThreed0</td>\n",
       "    </tr>\n",
       "    <tr>\n",
       "      <th>1</th>\n",
       "      <td>3D glasses</td>\n",
       "      <td>Black</td>\n",
       "      <td>No</td>\n",
       "      <td>490</td>\n",
       "      <td>122</td>\n",
       "      <td>Able Sisters</td>\n",
       "      <td>All Year</td>\n",
       "      <td>Active</td>\n",
       "      <td>AccessoryEye</td>\n",
       "      <td>For sale</td>\n",
       "      <td>AccessoryGlassThreed1</td>\n",
       "    </tr>\n",
       "    <tr>\n",
       "      <th>2</th>\n",
       "      <td>bandage</td>\n",
       "      <td>Beige</td>\n",
       "      <td>No</td>\n",
       "      <td>140</td>\n",
       "      <td>35</td>\n",
       "      <td>Able Sisters</td>\n",
       "      <td>All Year</td>\n",
       "      <td>Active</td>\n",
       "      <td>AccessoryMouth</td>\n",
       "      <td>For sale</td>\n",
       "      <td>AccessoryMouthBandageSkin</td>\n",
       "    </tr>\n",
       "    <tr>\n",
       "      <th>3</th>\n",
       "      <td>beak</td>\n",
       "      <td>Yellow</td>\n",
       "      <td>No</td>\n",
       "      <td>490</td>\n",
       "      <td>122</td>\n",
       "      <td>Able Sisters</td>\n",
       "      <td>All Year</td>\n",
       "      <td>Cute</td>\n",
       "      <td>AccessoryMouthInvisibleNose</td>\n",
       "      <td>For sale</td>\n",
       "      <td>AccessoryMouthBeakYellow</td>\n",
       "    </tr>\n",
       "    <tr>\n",
       "      <th>4</th>\n",
       "      <td>birthday shades</td>\n",
       "      <td>Yellow</td>\n",
       "      <td>No</td>\n",
       "      <td>2000</td>\n",
       "      <td>620</td>\n",
       "      <td>Birthday</td>\n",
       "      <td>All Year</td>\n",
       "      <td>Gorgeous</td>\n",
       "      <td>AccessoryEye</td>\n",
       "      <td>Not for sale</td>\n",
       "      <td>AccessoryGlassBirthday0</td>\n",
       "    </tr>\n",
       "  </tbody>\n",
       "</table>\n",
       "</div>"
      ],
      "text/plain": [
       "              Name Variation DIY   Buy  Sell       Source_  \\\n",
       "0       3D glasses     White  No   490   122  Able Sisters   \n",
       "1       3D glasses     Black  No   490   122  Able Sisters   \n",
       "2          bandage     Beige  No   140    35  Able Sisters   \n",
       "3             beak    Yellow  No   490   122  Able Sisters   \n",
       "4  birthday shades    Yellow  No  2000   620      Birthday   \n",
       "\n",
       "  Seasonal Availability     Style                         Type       Catalog  \\\n",
       "0              All Year    Active                 AccessoryEye      For sale   \n",
       "1              All Year    Active                 AccessoryEye      For sale   \n",
       "2              All Year    Active               AccessoryMouth      For sale   \n",
       "3              All Year      Cute  AccessoryMouthInvisibleNose      For sale   \n",
       "4              All Year  Gorgeous                 AccessoryEye  Not for sale   \n",
       "\n",
       "                    Filename  \n",
       "0      AccessoryGlassThreed0  \n",
       "1      AccessoryGlassThreed1  \n",
       "2  AccessoryMouthBandageSkin  \n",
       "3   AccessoryMouthBeakYellow  \n",
       "4    AccessoryGlassBirthday0  "
      ]
     },
     "execution_count": 10,
     "metadata": {},
     "output_type": "execute_result"
    }
   ],
   "source": [
    "# remove null values if there are any\n",
    "ace.dropna(inplace = True)\n",
    "ace.head()"
   ]
  },
  {
   "cell_type": "code",
   "execution_count": 11,
   "metadata": {},
   "outputs": [
    {
     "data": {
      "text/html": [
       "<div>\n",
       "<style scoped>\n",
       "    .dataframe tbody tr th:only-of-type {\n",
       "        vertical-align: middle;\n",
       "    }\n",
       "\n",
       "    .dataframe tbody tr th {\n",
       "        vertical-align: top;\n",
       "    }\n",
       "\n",
       "    .dataframe thead th {\n",
       "        text-align: right;\n",
       "    }\n",
       "</style>\n",
       "<table border=\"1\" class=\"dataframe\">\n",
       "  <thead>\n",
       "    <tr style=\"text-align: right;\">\n",
       "      <th></th>\n",
       "      <th>Name</th>\n",
       "      <th>Variation</th>\n",
       "      <th>DIY</th>\n",
       "      <th>Buy</th>\n",
       "      <th>Sell</th>\n",
       "      <th>Source_</th>\n",
       "      <th>Seasonal Availability</th>\n",
       "      <th>Style</th>\n",
       "      <th>Type</th>\n",
       "      <th>Catalog</th>\n",
       "      <th>Filename</th>\n",
       "    </tr>\n",
       "  </thead>\n",
       "  <tbody>\n",
       "    <tr>\n",
       "      <th>0</th>\n",
       "      <td>3D glasses</td>\n",
       "      <td>White</td>\n",
       "      <td>No</td>\n",
       "      <td>490</td>\n",
       "      <td>122</td>\n",
       "      <td>Able Sisters</td>\n",
       "      <td>All Year</td>\n",
       "      <td>Active</td>\n",
       "      <td>AccessoryEye</td>\n",
       "      <td>For Sale</td>\n",
       "      <td>AccessoryGlassThreed0</td>\n",
       "    </tr>\n",
       "    <tr>\n",
       "      <th>1</th>\n",
       "      <td>3D glasses</td>\n",
       "      <td>Black</td>\n",
       "      <td>No</td>\n",
       "      <td>490</td>\n",
       "      <td>122</td>\n",
       "      <td>Able Sisters</td>\n",
       "      <td>All Year</td>\n",
       "      <td>Active</td>\n",
       "      <td>AccessoryEye</td>\n",
       "      <td>For Sale</td>\n",
       "      <td>AccessoryGlassThreed1</td>\n",
       "    </tr>\n",
       "    <tr>\n",
       "      <th>2</th>\n",
       "      <td>bandage</td>\n",
       "      <td>Beige</td>\n",
       "      <td>No</td>\n",
       "      <td>140</td>\n",
       "      <td>35</td>\n",
       "      <td>Able Sisters</td>\n",
       "      <td>All Year</td>\n",
       "      <td>Active</td>\n",
       "      <td>AccessoryMouth</td>\n",
       "      <td>For Sale</td>\n",
       "      <td>AccessoryMouthBandageSkin</td>\n",
       "    </tr>\n",
       "    <tr>\n",
       "      <th>3</th>\n",
       "      <td>beak</td>\n",
       "      <td>Yellow</td>\n",
       "      <td>No</td>\n",
       "      <td>490</td>\n",
       "      <td>122</td>\n",
       "      <td>Able Sisters</td>\n",
       "      <td>All Year</td>\n",
       "      <td>Cute</td>\n",
       "      <td>AccessoryMouthInvisibleNose</td>\n",
       "      <td>For Sale</td>\n",
       "      <td>AccessoryMouthBeakYellow</td>\n",
       "    </tr>\n",
       "    <tr>\n",
       "      <th>4</th>\n",
       "      <td>birthday shades</td>\n",
       "      <td>Yellow</td>\n",
       "      <td>No</td>\n",
       "      <td>2000</td>\n",
       "      <td>620</td>\n",
       "      <td>Birthday</td>\n",
       "      <td>All Year</td>\n",
       "      <td>Gorgeous</td>\n",
       "      <td>AccessoryEye</td>\n",
       "      <td>Not For Sale</td>\n",
       "      <td>AccessoryGlassBirthday0</td>\n",
       "    </tr>\n",
       "  </tbody>\n",
       "</table>\n",
       "</div>"
      ],
      "text/plain": [
       "              Name Variation DIY   Buy  Sell       Source_  \\\n",
       "0       3D glasses     White  No   490   122  Able Sisters   \n",
       "1       3D glasses     Black  No   490   122  Able Sisters   \n",
       "2          bandage     Beige  No   140    35  Able Sisters   \n",
       "3             beak    Yellow  No   490   122  Able Sisters   \n",
       "4  birthday shades    Yellow  No  2000   620      Birthday   \n",
       "\n",
       "  Seasonal Availability     Style                         Type       Catalog  \\\n",
       "0              All Year    Active                 AccessoryEye      For Sale   \n",
       "1              All Year    Active                 AccessoryEye      For Sale   \n",
       "2              All Year    Active               AccessoryMouth      For Sale   \n",
       "3              All Year      Cute  AccessoryMouthInvisibleNose      For Sale   \n",
       "4              All Year  Gorgeous                 AccessoryEye  Not For Sale   \n",
       "\n",
       "                    Filename  \n",
       "0      AccessoryGlassThreed0  \n",
       "1      AccessoryGlassThreed1  \n",
       "2  AccessoryMouthBandageSkin  \n",
       "3   AccessoryMouthBeakYellow  \n",
       "4    AccessoryGlassBirthday0  "
      ]
     },
     "execution_count": 11,
     "metadata": {},
     "output_type": "execute_result"
    }
   ],
   "source": [
    "# make the words in the each respective column start with a capital letter\n",
    "ace[\"Catalog\"] = ace[\"Catalog\"].str.title()\n",
    "ace.head()"
   ]
  },
  {
   "cell_type": "code",
   "execution_count": 12,
   "metadata": {},
   "outputs": [
    {
     "data": {
      "text/plain": [
       "array(['3D glasses', 'bandage', 'beak', 'birthday shades',\n",
       "       'bottom-rimmed glasses', 'browline glasses', 'bubblegum',\n",
       "       'bunny nose', 'butterfly shades', 'candy-skull mask', 'cat nose',\n",
       "       'cucumber pack', 'curly mustache', 'cyber shades', 'DAL eye mask',\n",
       "       'DAL sunglasses', \"doctor's mask\", 'dog nose',\n",
       "       'double-bridge glasses', 'drinking-straw glasses', 'eye mask',\n",
       "       'eye patch', 'facial mask', 'fake nose', 'flower sunglasses',\n",
       "       'food mess', 'funny glasses', 'gas mask', 'glass-bottle glasses',\n",
       "       'goatee', 'goggles', 'handlebar mustache', 'heart shades', 'HMD',\n",
       "       \"jester's mask\", 'Labelle sunglasses', 'ladder shades', 'leaf',\n",
       "       'masquerade mask', 'monocle', 'night-vision goggles',\n",
       "       'Nook Inc. eye mask', 'nose drip', 'octagonal glasses',\n",
       "       'oval glasses', 'pacifier', 'pig nose', 'pilot shades',\n",
       "       'pixel shades', 'pleather mask', 'post-op patch', 'privacy mask',\n",
       "       'reflector', 'retro shades', 'rhinestone shades', 'rimmed glasses',\n",
       "       'round shades', 'round tinted shades', 'rounded beard',\n",
       "       'shattered glasses', 'ski goggles', 'sporty shades',\n",
       "       'square glasses', 'stache & glasses', 'star shades',\n",
       "       'steampunk glasses', 'sticky rice', 'superhero mask',\n",
       "       'tiny shades', 'tortoise specs', 'triangle shades',\n",
       "       'wooden-frame glasses'], dtype=object)"
      ]
     },
     "execution_count": 12,
     "metadata": {},
     "output_type": "execute_result"
    }
   ],
   "source": [
    "# this prints out the values in that column in a numpy array \n",
    "# lets see if there are any misplelt value in any column\n",
    "ace[\"Name\"].unique()"
   ]
  },
  {
   "cell_type": "code",
   "execution_count": 13,
   "metadata": {},
   "outputs": [
    {
     "data": {
      "text/plain": [
       "array(['White', 'Black', 'Beige', 'Yellow', 'Pink', 'Red', 'Blue',\n",
       "       'Purple', 'Green', 'Brown', 'Gray', 'Orange', 'Navy blue',\n",
       "       'Silver', 'Gold', 'Pasta', 'Avocado', 'Twilight', 'Midnight',\n",
       "       'Passion', 'Ocean', 'Sunset', 'Love', 'Light blue', 'Magenta',\n",
       "       'Mustard', 'Baby purple', 'Baby mint', 'Baby yellow', 'Baby green',\n",
       "       'Baby pink', 'Baby gray', 'Baby blue', 'Baby orange', 'Ochre',\n",
       "       'Light brown', 'Dark brown', 'Lime', 'Berry red'], dtype=object)"
      ]
     },
     "execution_count": 13,
     "metadata": {},
     "output_type": "execute_result"
    }
   ],
   "source": [
    "# lets see if there are any misplelt value in any column\n",
    "ace[\"Variation\"].unique()"
   ]
  },
  {
   "cell_type": "code",
   "execution_count": 14,
   "metadata": {},
   "outputs": [
    {
     "data": {
      "text/html": [
       "<div>\n",
       "<style scoped>\n",
       "    .dataframe tbody tr th:only-of-type {\n",
       "        vertical-align: middle;\n",
       "    }\n",
       "\n",
       "    .dataframe tbody tr th {\n",
       "        vertical-align: top;\n",
       "    }\n",
       "\n",
       "    .dataframe thead th {\n",
       "        text-align: right;\n",
       "    }\n",
       "</style>\n",
       "<table border=\"1\" class=\"dataframe\">\n",
       "  <thead>\n",
       "    <tr style=\"text-align: right;\">\n",
       "      <th></th>\n",
       "      <th>Name</th>\n",
       "      <th>Variation</th>\n",
       "      <th>DIY</th>\n",
       "      <th>Buy</th>\n",
       "      <th>Sell</th>\n",
       "      <th>Source_</th>\n",
       "      <th>Seasonal Availability</th>\n",
       "      <th>Style</th>\n",
       "      <th>Type</th>\n",
       "      <th>Catalog</th>\n",
       "      <th>Filename</th>\n",
       "    </tr>\n",
       "  </thead>\n",
       "  <tbody>\n",
       "    <tr>\n",
       "      <th>0</th>\n",
       "      <td>3D glasses</td>\n",
       "      <td>White</td>\n",
       "      <td>No</td>\n",
       "      <td>490</td>\n",
       "      <td>122</td>\n",
       "      <td>Able Sisters</td>\n",
       "      <td>All Year</td>\n",
       "      <td>Active</td>\n",
       "      <td>AccessoryEye</td>\n",
       "      <td>For Sale</td>\n",
       "      <td>AccessoryGlassThreed0</td>\n",
       "    </tr>\n",
       "    <tr>\n",
       "      <th>1</th>\n",
       "      <td>3D glasses</td>\n",
       "      <td>Black</td>\n",
       "      <td>No</td>\n",
       "      <td>490</td>\n",
       "      <td>122</td>\n",
       "      <td>Able Sisters</td>\n",
       "      <td>All Year</td>\n",
       "      <td>Active</td>\n",
       "      <td>AccessoryEye</td>\n",
       "      <td>For Sale</td>\n",
       "      <td>AccessoryGlassThreed1</td>\n",
       "    </tr>\n",
       "    <tr>\n",
       "      <th>2</th>\n",
       "      <td>bandage</td>\n",
       "      <td>Beige</td>\n",
       "      <td>No</td>\n",
       "      <td>140</td>\n",
       "      <td>35</td>\n",
       "      <td>Able Sisters</td>\n",
       "      <td>All Year</td>\n",
       "      <td>Active</td>\n",
       "      <td>AccessoryMouth</td>\n",
       "      <td>For Sale</td>\n",
       "      <td>AccessoryMouthBandageSkin</td>\n",
       "    </tr>\n",
       "    <tr>\n",
       "      <th>3</th>\n",
       "      <td>beak</td>\n",
       "      <td>Yellow</td>\n",
       "      <td>No</td>\n",
       "      <td>490</td>\n",
       "      <td>122</td>\n",
       "      <td>Able Sisters</td>\n",
       "      <td>All Year</td>\n",
       "      <td>Cute</td>\n",
       "      <td>AccessoryMouthInvisibleNose</td>\n",
       "      <td>For Sale</td>\n",
       "      <td>AccessoryMouthBeakYellow</td>\n",
       "    </tr>\n",
       "    <tr>\n",
       "      <th>4</th>\n",
       "      <td>birthday shades</td>\n",
       "      <td>Yellow</td>\n",
       "      <td>No</td>\n",
       "      <td>2000</td>\n",
       "      <td>620</td>\n",
       "      <td>Birthday</td>\n",
       "      <td>All Year</td>\n",
       "      <td>Gorgeous</td>\n",
       "      <td>AccessoryEye</td>\n",
       "      <td>Not For Sale</td>\n",
       "      <td>AccessoryGlassBirthday0</td>\n",
       "    </tr>\n",
       "  </tbody>\n",
       "</table>\n",
       "</div>"
      ],
      "text/plain": [
       "              Name Variation DIY   Buy  Sell       Source_  \\\n",
       "0       3D glasses     White  No   490   122  Able Sisters   \n",
       "1       3D glasses     Black  No   490   122  Able Sisters   \n",
       "2          bandage     Beige  No   140    35  Able Sisters   \n",
       "3             beak    Yellow  No   490   122  Able Sisters   \n",
       "4  birthday shades    Yellow  No  2000   620      Birthday   \n",
       "\n",
       "  Seasonal Availability     Style                         Type       Catalog  \\\n",
       "0              All Year    Active                 AccessoryEye      For Sale   \n",
       "1              All Year    Active                 AccessoryEye      For Sale   \n",
       "2              All Year    Active               AccessoryMouth      For Sale   \n",
       "3              All Year      Cute  AccessoryMouthInvisibleNose      For Sale   \n",
       "4              All Year  Gorgeous                 AccessoryEye  Not For Sale   \n",
       "\n",
       "                    Filename  \n",
       "0      AccessoryGlassThreed0  \n",
       "1      AccessoryGlassThreed1  \n",
       "2  AccessoryMouthBandageSkin  \n",
       "3   AccessoryMouthBeakYellow  \n",
       "4    AccessoryGlassBirthday0  "
      ]
     },
     "execution_count": 14,
     "metadata": {},
     "output_type": "execute_result"
    }
   ],
   "source": [
    "# change the word \"Berry red\" to \"Red\"\n",
    "ace[\"Variation\"] = ace[\"Variation\"].replace([\"Berry red\"], \"Red\")\n",
    "ace.head()"
   ]
  },
  {
   "cell_type": "code",
   "execution_count": 15,
   "metadata": {},
   "outputs": [
    {
     "data": {
      "text/plain": [
       "array(['White', 'Black', 'Beige', 'Yellow', 'Pink', 'Red', 'Blue',\n",
       "       'Purple', 'Green', 'Brown', 'Gray', 'Orange', 'Navy blue',\n",
       "       'Silver', 'Gold', 'Pasta', 'Avocado', 'Twilight', 'Midnight',\n",
       "       'Passion', 'Ocean', 'Sunset', 'Love', 'Light blue', 'Magenta',\n",
       "       'Mustard', 'Baby purple', 'Baby mint', 'Baby yellow', 'Baby green',\n",
       "       'Baby pink', 'Baby gray', 'Baby blue', 'Baby orange', 'Ochre',\n",
       "       'Light brown', 'Dark brown', 'Lime'], dtype=object)"
      ]
     },
     "execution_count": 15,
     "metadata": {},
     "output_type": "execute_result"
    }
   ],
   "source": [
    "# check to see if the correction was made\n",
    "ace[\"Variation\"].unique()"
   ]
  },
  {
   "cell_type": "code",
   "execution_count": 16,
   "metadata": {},
   "outputs": [
    {
     "data": {
      "text/plain": [
       "Name                     object\n",
       "Variation                object\n",
       "DIY                      object\n",
       "Buy                       int64\n",
       "Sell                      int64\n",
       "Source_                  object\n",
       "Seasonal Availability    object\n",
       "Style                    object\n",
       "Type                     object\n",
       "Catalog                  object\n",
       "Filename                 object\n",
       "dtype: object"
      ]
     },
     "execution_count": 16,
     "metadata": {},
     "output_type": "execute_result"
    }
   ],
   "source": [
    "# check the datatypes in each column\n",
    "ace.dtypes"
   ]
  },
  {
   "cell_type": "code",
   "execution_count": 17,
   "metadata": {},
   "outputs": [
    {
     "data": {
      "text/plain": [
       "Name                     object\n",
       "Variation                object\n",
       "DIY                      object\n",
       "Buy                       int32\n",
       "Sell                      int64\n",
       "Source_                  object\n",
       "Seasonal Availability    object\n",
       "Style                    object\n",
       "Type                     object\n",
       "Catalog                  object\n",
       "Filename                 object\n",
       "dtype: object"
      ]
     },
     "execution_count": 17,
     "metadata": {},
     "output_type": "execute_result"
    }
   ],
   "source": [
    "# change the datatype of a column\n",
    "ace = ace.astype({\"Buy\": int})\n",
    "ace.dtypes "
   ]
  },
  {
   "cell_type": "code",
   "execution_count": 18,
   "metadata": {},
   "outputs": [
    {
     "data": {
      "text/plain": [
       "Name                     object\n",
       "Variation                object\n",
       "DIY                      object\n",
       "Buy                       int32\n",
       "Sell                      int64\n",
       "Source_                  object\n",
       "Seasonal Availability    object\n",
       "Style                    object\n",
       "Type                     object\n",
       "Catalog                  object\n",
       "Filename                 object\n",
       "dtype: object"
      ]
     },
     "execution_count": 18,
     "metadata": {},
     "output_type": "execute_result"
    }
   ],
   "source": [
    "# change the datatype of a column\n",
    "ace = ace.astype({\"Style\": str})\n",
    "ace.dtypes "
   ]
  },
  {
   "cell_type": "code",
   "execution_count": 19,
   "metadata": {},
   "outputs": [
    {
     "data": {
      "text/html": [
       "<div>\n",
       "<style scoped>\n",
       "    .dataframe tbody tr th:only-of-type {\n",
       "        vertical-align: middle;\n",
       "    }\n",
       "\n",
       "    .dataframe tbody tr th {\n",
       "        vertical-align: top;\n",
       "    }\n",
       "\n",
       "    .dataframe thead th {\n",
       "        text-align: right;\n",
       "    }\n",
       "</style>\n",
       "<table border=\"1\" class=\"dataframe\">\n",
       "  <thead>\n",
       "    <tr style=\"text-align: right;\">\n",
       "      <th></th>\n",
       "      <th>Name</th>\n",
       "      <th>Variation</th>\n",
       "      <th>DIY</th>\n",
       "      <th>Buy</th>\n",
       "      <th>Sell</th>\n",
       "      <th>Source_</th>\n",
       "      <th>Seasonal Availability</th>\n",
       "      <th>Style</th>\n",
       "      <th>Type</th>\n",
       "      <th>Catalog</th>\n",
       "      <th>Filename</th>\n",
       "    </tr>\n",
       "  </thead>\n",
       "  <tbody>\n",
       "    <tr>\n",
       "      <th>0</th>\n",
       "      <td>3D glasses</td>\n",
       "      <td>White</td>\n",
       "      <td>No</td>\n",
       "      <td>490</td>\n",
       "      <td>122</td>\n",
       "      <td>Able Sisters</td>\n",
       "      <td>All Year</td>\n",
       "      <td>Active</td>\n",
       "      <td>AccessoryEye</td>\n",
       "      <td>For Sale</td>\n",
       "      <td>AccessoryGlassThreed0</td>\n",
       "    </tr>\n",
       "    <tr>\n",
       "      <th>1</th>\n",
       "      <td>3D glasses</td>\n",
       "      <td>Black</td>\n",
       "      <td>No</td>\n",
       "      <td>490</td>\n",
       "      <td>122</td>\n",
       "      <td>Able Sisters</td>\n",
       "      <td>All Year</td>\n",
       "      <td>Active</td>\n",
       "      <td>AccessoryEye</td>\n",
       "      <td>For Sale</td>\n",
       "      <td>AccessoryGlassThreed1</td>\n",
       "    </tr>\n",
       "    <tr>\n",
       "      <th>2</th>\n",
       "      <td>bandage</td>\n",
       "      <td>Beige</td>\n",
       "      <td>No</td>\n",
       "      <td>140</td>\n",
       "      <td>35</td>\n",
       "      <td>Able Sisters</td>\n",
       "      <td>All Year</td>\n",
       "      <td>Active</td>\n",
       "      <td>AccessoryMouth</td>\n",
       "      <td>For Sale</td>\n",
       "      <td>AccessoryMouthBandageSkin</td>\n",
       "    </tr>\n",
       "    <tr>\n",
       "      <th>3</th>\n",
       "      <td>beak</td>\n",
       "      <td>Yellow</td>\n",
       "      <td>No</td>\n",
       "      <td>490</td>\n",
       "      <td>122</td>\n",
       "      <td>Able Sisters</td>\n",
       "      <td>All Year</td>\n",
       "      <td>Cute</td>\n",
       "      <td>AccessoryMouthInvisibleNose</td>\n",
       "      <td>For Sale</td>\n",
       "      <td>AccessoryMouthBeakYellow</td>\n",
       "    </tr>\n",
       "    <tr>\n",
       "      <th>4</th>\n",
       "      <td>birthday shades</td>\n",
       "      <td>Yellow</td>\n",
       "      <td>No</td>\n",
       "      <td>2000</td>\n",
       "      <td>620</td>\n",
       "      <td>Birthday</td>\n",
       "      <td>All Year</td>\n",
       "      <td>Gorgeous</td>\n",
       "      <td>AccessoryEye</td>\n",
       "      <td>Not For Sale</td>\n",
       "      <td>AccessoryGlassBirthday0</td>\n",
       "    </tr>\n",
       "  </tbody>\n",
       "</table>\n",
       "</div>"
      ],
      "text/plain": [
       "              Name Variation DIY   Buy  Sell       Source_  \\\n",
       "0       3D glasses     White  No   490   122  Able Sisters   \n",
       "1       3D glasses     Black  No   490   122  Able Sisters   \n",
       "2          bandage     Beige  No   140    35  Able Sisters   \n",
       "3             beak    Yellow  No   490   122  Able Sisters   \n",
       "4  birthday shades    Yellow  No  2000   620      Birthday   \n",
       "\n",
       "  Seasonal Availability     Style                         Type       Catalog  \\\n",
       "0              All Year    Active                 AccessoryEye      For Sale   \n",
       "1              All Year    Active                 AccessoryEye      For Sale   \n",
       "2              All Year    Active               AccessoryMouth      For Sale   \n",
       "3              All Year      Cute  AccessoryMouthInvisibleNose      For Sale   \n",
       "4              All Year  Gorgeous                 AccessoryEye  Not For Sale   \n",
       "\n",
       "                    Filename  \n",
       "0      AccessoryGlassThreed0  \n",
       "1      AccessoryGlassThreed1  \n",
       "2  AccessoryMouthBandageSkin  \n",
       "3   AccessoryMouthBeakYellow  \n",
       "4    AccessoryGlassBirthday0  "
      ]
     },
     "execution_count": 19,
     "metadata": {},
     "output_type": "execute_result"
    }
   ],
   "source": [
    "# cross check the dataset\n",
    "ace.head()"
   ]
  },
  {
   "cell_type": "code",
   "execution_count": 20,
   "metadata": {},
   "outputs": [
    {
     "data": {
      "text/html": [
       "<div>\n",
       "<style scoped>\n",
       "    .dataframe tbody tr th:only-of-type {\n",
       "        vertical-align: middle;\n",
       "    }\n",
       "\n",
       "    .dataframe tbody tr th {\n",
       "        vertical-align: top;\n",
       "    }\n",
       "\n",
       "    .dataframe thead th {\n",
       "        text-align: right;\n",
       "    }\n",
       "</style>\n",
       "<table border=\"1\" class=\"dataframe\">\n",
       "  <thead>\n",
       "    <tr style=\"text-align: right;\">\n",
       "      <th></th>\n",
       "      <th>Buy</th>\n",
       "      <th>Sell</th>\n",
       "    </tr>\n",
       "  </thead>\n",
       "  <tbody>\n",
       "    <tr>\n",
       "      <th>count</th>\n",
       "      <td>222.000000</td>\n",
       "      <td>222.000000</td>\n",
       "    </tr>\n",
       "    <tr>\n",
       "      <th>mean</th>\n",
       "      <td>1020.810811</td>\n",
       "      <td>268.698198</td>\n",
       "    </tr>\n",
       "    <tr>\n",
       "      <th>std</th>\n",
       "      <td>455.113998</td>\n",
       "      <td>187.800688</td>\n",
       "    </tr>\n",
       "    <tr>\n",
       "      <th>min</th>\n",
       "      <td>140.000000</td>\n",
       "      <td>10.000000</td>\n",
       "    </tr>\n",
       "    <tr>\n",
       "      <th>25%</th>\n",
       "      <td>630.000000</td>\n",
       "      <td>144.250000</td>\n",
       "    </tr>\n",
       "    <tr>\n",
       "      <th>50%</th>\n",
       "      <td>980.000000</td>\n",
       "      <td>245.000000</td>\n",
       "    </tr>\n",
       "    <tr>\n",
       "      <th>75%</th>\n",
       "      <td>1300.000000</td>\n",
       "      <td>325.000000</td>\n",
       "    </tr>\n",
       "    <tr>\n",
       "      <th>max</th>\n",
       "      <td>2000.000000</td>\n",
       "      <td>2000.000000</td>\n",
       "    </tr>\n",
       "  </tbody>\n",
       "</table>\n",
       "</div>"
      ],
      "text/plain": [
       "               Buy         Sell\n",
       "count   222.000000   222.000000\n",
       "mean   1020.810811   268.698198\n",
       "std     455.113998   187.800688\n",
       "min     140.000000    10.000000\n",
       "25%     630.000000   144.250000\n",
       "50%     980.000000   245.000000\n",
       "75%    1300.000000   325.000000\n",
       "max    2000.000000  2000.000000"
      ]
     },
     "execution_count": 20,
     "metadata": {},
     "output_type": "execute_result"
    }
   ],
   "source": [
    "# statistical analysis\n",
    "ace.describe()"
   ]
  },
  {
   "cell_type": "code",
   "execution_count": 21,
   "metadata": {},
   "outputs": [
    {
     "data": {
      "image/png": "[encoded data removed]",
      "text/plain": [
       "<Figure size 936x504 with 1 Axes>"
      ]
     },
     "metadata": {
      "needs_background": "light"
     },
     "output_type": "display_data"
    }
   ],
   "source": [
    "# plot the statistical analysis\n",
    "col = [\"#207567\", \"#8DC3A7\"]\n",
    "ace.describe().plot(kind = \"bar\", color = col, figsize = (13, 7));"
   ]
  },
  {
   "cell_type": "code",
   "execution_count": 22,
   "metadata": {},
   "outputs": [
    {
     "data": {
      "text/plain": [
       "['Simple', 'Cute', 'Active', 'Cool', 'Gorgeous', 'Elegant']"
      ]
     },
     "execution_count": 22,
     "metadata": {},
     "output_type": "execute_result"
    }
   ],
   "source": [
    "# data visualization\n",
    "a = ace[\"Style\"].value_counts(normalize = True).index.tolist()\n",
    "a "
   ]
  },
  {
   "cell_type": "code",
   "execution_count": 23,
   "metadata": {},
   "outputs": [
    {
     "data": {
      "text/plain": [
       "[0.24774774774774774,\n",
       " 0.23423423423423423,\n",
       " 0.16666666666666666,\n",
       " 0.15315315315315314,\n",
       " 0.11261261261261261,\n",
       " 0.08558558558558559]"
      ]
     },
     "execution_count": 23,
     "metadata": {},
     "output_type": "execute_result"
    }
   ],
   "source": [
    "# data visualization\n",
    "b = ace[\"Style\"].value_counts(normalize = True).tolist()\n",
    "b "
   ]
  },
  {
   "cell_type": "code",
   "execution_count": 32,
   "metadata": {},
   "outputs": [
    {
     "data": {
      "image/png": "[encoded data removed]",
      "text/plain": [
       "<Figure size 936x648 with 1 Axes>"
      ]
     },
     "metadata": {},
     "output_type": "display_data"
    }
   ],
   "source": [
    "a = ace[\"Style\"].value_counts(normalize = True).index.tolist()\n",
    "b = ace[\"Style\"].value_counts(normalize = True).tolist()\n",
    "cols = [\"#207567\", \"#358873\", \"#4E9C81\", \"#6BAF92\", \"#8DC3A7\", \"#B4D6C1\"]\n",
    "plt.pie(b, labels = a, colors = cols, startangle = 90, shadow = True, explode = (0, 0, 0, 0, 0, 0), autopct = \"%1.1f%%\", pctdistance=0.80)\n",
    "centre_circle = plt.Circle((0, 0), 0.60, fc = 'white')\n",
    "fig = plt.gcf()\n",
    "fig.gca().add_artist(centre_circle)\n",
    "plt.rcParams[\"figure.figsize\"] = (20,14)\n",
    "plt.title(\"Percentage count of the items based on style\")\n",
    "plt.legend(loc = \"upper right\")\n",
    "plt.show();"
   ]
  },
  {
   "cell_type": "code",
   "execution_count": 33,
   "metadata": {},
   "outputs": [
    {
     "data": {
      "image/png": "[encoded data removed]",
      "text/plain": [
       "<Figure size 1440x1008 with 1 Axes>"
      ]
     },
     "metadata": {},
     "output_type": "display_data"
    }
   ],
   "source": [
    "# data visualization\n",
    "a = ace[\"Style\"].value_counts(normalize = True).index.tolist()\n",
    "b = ace[\"Style\"].value_counts(normalize = True).tolist()\n",
    "b\n",
    "f = []\n",
    "for i in b:\n",
    "    d = round((i * 100), 1)\n",
    "    f.append(d)\n",
    "f  \n",
    "cols = [\"#207567\", \"#358873\", \"#4E9C81\", \"#6BAF92\", \"#8DC3A7\", \"#B4D6C1\"]\n",
    "plt.style.use(\"fivethirtyeight\")\n",
    "plt.barh(a, f, color = cols, label = a)\n",
    "plt.rcParams[\"figure.figsize\"] = (13,9)\n",
    "plt.title(\"Percentage count of the items based on style\")\n",
    "plt.ylabel(\"Style\")\n",
    "plt.xlabel(\"% Total\")\n",
    "plt.tight_layout() \n",
    "\n",
    "for i, v in enumerate(f):\n",
    "    plt.text(v + 0.5, i + .00, str(v) + \"%\", color = \"black\", fontweight = \"bold\")\n",
    "plt.show();"
   ]
  },
  {
   "cell_type": "code",
   "execution_count": 26,
   "metadata": {},
   "outputs": [
    {
     "data": {
      "text/html": [
       "<div>\n",
       "<style scoped>\n",
       "    .dataframe tbody tr th:only-of-type {\n",
       "        vertical-align: middle;\n",
       "    }\n",
       "\n",
       "    .dataframe tbody tr th {\n",
       "        vertical-align: top;\n",
       "    }\n",
       "\n",
       "    .dataframe thead th {\n",
       "        text-align: right;\n",
       "    }\n",
       "</style>\n",
       "<table border=\"1\" class=\"dataframe\">\n",
       "  <thead>\n",
       "    <tr style=\"text-align: right;\">\n",
       "      <th></th>\n",
       "      <th>Catalog</th>\n",
       "      <th>Count</th>\n",
       "    </tr>\n",
       "  </thead>\n",
       "  <tbody>\n",
       "    <tr>\n",
       "      <th>0</th>\n",
       "      <td>For Sale</td>\n",
       "      <td>0.945946</td>\n",
       "    </tr>\n",
       "    <tr>\n",
       "      <th>1</th>\n",
       "      <td>Not For Sale</td>\n",
       "      <td>0.054054</td>\n",
       "    </tr>\n",
       "  </tbody>\n",
       "</table>\n",
       "</div>"
      ],
      "text/plain": [
       "        Catalog     Count\n",
       "0      For Sale  0.945946\n",
       "1  Not For Sale  0.054054"
      ]
     },
     "execution_count": 26,
     "metadata": {},
     "output_type": "execute_result"
    }
   ],
   "source": [
    "cat_ace = ace[\"Catalog\"].value_counts(normalize = True).rename_axis(\"Catalog\").reset_index(name = \"Count\")\n",
    "cat_ace "
   ]
  },
  {
   "cell_type": "code",
   "execution_count": 27,
   "metadata": {},
   "outputs": [
    {
     "data": {
      "text/html": [
       "<div>\n",
       "<style scoped>\n",
       "    .dataframe tbody tr th:only-of-type {\n",
       "        vertical-align: middle;\n",
       "    }\n",
       "\n",
       "    .dataframe tbody tr th {\n",
       "        vertical-align: top;\n",
       "    }\n",
       "\n",
       "    .dataframe thead th {\n",
       "        text-align: right;\n",
       "    }\n",
       "</style>\n",
       "<table border=\"1\" class=\"dataframe\">\n",
       "  <thead>\n",
       "    <tr style=\"text-align: right;\">\n",
       "      <th></th>\n",
       "      <th>Catalog</th>\n",
       "      <th>Count</th>\n",
       "      <th>percentage_Total</th>\n",
       "    </tr>\n",
       "  </thead>\n",
       "  <tbody>\n",
       "    <tr>\n",
       "      <th>0</th>\n",
       "      <td>For Sale</td>\n",
       "      <td>0.945946</td>\n",
       "      <td>0.9</td>\n",
       "    </tr>\n",
       "    <tr>\n",
       "      <th>1</th>\n",
       "      <td>Not For Sale</td>\n",
       "      <td>0.054054</td>\n",
       "      <td>0.1</td>\n",
       "    </tr>\n",
       "  </tbody>\n",
       "</table>\n",
       "</div>"
      ],
      "text/plain": [
       "        Catalog     Count  percentage_Total\n",
       "0      For Sale  0.945946               0.9\n",
       "1  Not For Sale  0.054054               0.1"
      ]
     },
     "execution_count": 27,
     "metadata": {},
     "output_type": "execute_result"
    }
   ],
   "source": [
    "rnd_cnt = []\n",
    "for i in cat_ace[\"Count\"]:\n",
    "    dah = round(i, 1)\n",
    "    rnd_cnt.append(dah)\n",
    "cat_ace[\"percentage_Total\"] = rnd_cnt\n",
    "cat_ace"
   ]
  },
  {
   "cell_type": "code",
   "execution_count": 31,
   "metadata": {},
   "outputs": [
    {
     "data": {
      "image/png": "[encoded data removed]",
      "text/plain": [
       "<Figure size 936x648 with 1 Axes>"
      ]
     },
     "metadata": {},
     "output_type": "display_data"
    }
   ],
   "source": [
    "col = [\"#207567\", \"#8DC3A7\"]\n",
    "plt.style.use(\"fivethirtyeight\")\n",
    "plot = plt.bar(cat_ace[\"Catalog\"], cat_ace[\"percentage_Total\"], color = col)\n",
    "plt.rcParams[\"figure.figsize\"] = (13,9)\n",
    "plt.title(\"Percentage count of the items based on Catalog\")\n",
    "plt.xlabel(\"Catalog\")\n",
    "plt.ylabel(\"% Total\")\n",
    "plt.tight_layout()\n",
    "i = 0\n",
    "for p in plot:\n",
    "    width = p.get_width()\n",
    "    height = p.get_height()\n",
    "    x, y = p.get_xy()\n",
    "    plt.text(x + width/2, y + height*1.01, str(cat_ace.percentage_Total[i]) + \"%\", ha = \"center\", weight = \"bold\")\n",
    "    i += 1\n",
    "\n",
    "plt.show();"
   ]
  },
  {
   "cell_type": "code",
   "execution_count": null,
   "metadata": {},
   "outputs": [
    {
     "data": {
      "text/html": [
       "<div>\n",
       "<style scoped>\n",
       "    .dataframe tbody tr th:only-of-type {\n",
       "        vertical-align: middle;\n",
       "    }\n",
       "\n",
       "    .dataframe tbody tr th {\n",
       "        vertical-align: top;\n",
       "    }\n",
       "\n",
       "    .dataframe thead th {\n",
       "        text-align: right;\n",
       "    }\n",
       "</style>\n",
       "<table border=\"1\" class=\"dataframe\">\n",
       "  <thead>\n",
       "    <tr style=\"text-align: right;\">\n",
       "      <th></th>\n",
       "      <th>sum</th>\n",
       "    </tr>\n",
       "    <tr>\n",
       "      <th>Style</th>\n",
       "      <th></th>\n",
       "    </tr>\n",
       "  </thead>\n",
       "  <tbody>\n",
       "    <tr>\n",
       "      <td>Active</td>\n",
       "      <td>33740</td>\n",
       "    </tr>\n",
       "    <tr>\n",
       "      <td>Cool</td>\n",
       "      <td>43050</td>\n",
       "    </tr>\n",
       "    <tr>\n",
       "      <td>Cute</td>\n",
       "      <td>41010</td>\n",
       "    </tr>\n",
       "    <tr>\n",
       "      <td>Elegant</td>\n",
       "      <td>21330</td>\n",
       "    </tr>\n",
       "    <tr>\n",
       "      <td>Gorgeous</td>\n",
       "      <td>39180</td>\n",
       "    </tr>\n",
       "    <tr>\n",
       "      <td>Simple</td>\n",
       "      <td>48310</td>\n",
       "    </tr>\n",
       "  </tbody>\n",
       "</table>\n",
       "</div>"
      ],
      "text/plain": [
       "            sum\n",
       "Style          \n",
       "Active    33740\n",
       "Cool      43050\n",
       "Cute      41010\n",
       "Elegant   21330\n",
       "Gorgeous  39180\n",
       "Simple    48310"
      ]
     },
     "execution_count": 28,
     "metadata": {},
     "output_type": "execute_result"
    }
   ],
   "source": [
    "cat = ace[\"Style\"].value_counts(normalize = True).index.tolist()\n",
    "group_cat = ace.groupby([\"Style\"])\n",
    "grouped = group_cat[\"Buy\"].agg([\"sum\"])\n",
    "grouped "
   ]
  },
  {
   "cell_type": "code",
   "execution_count": 30,
   "metadata": {},
   "outputs": [
    {
     "data": {
      "image/png": "[encoded data removed]",
      "text/plain": [
       "<Figure size 936x648 with 1 Axes>"
      ]
     },
     "metadata": {},
     "output_type": "display_data"
    }
   ],
   "source": [
    "group_cat = ace.groupby([\"Style\"])\n",
    "grouped = group_cat[\"Buy\"].agg([\"sum\"])\n",
    "x = grouped.sort_values(\"sum\")\n",
    "x1 = x[\"sum\"].tolist()\n",
    "y1 = x.index.tolist()\n",
    "\n",
    "cols = [\"#B4D6C1\", \"#8DC3A7\", \"#6BAF92\", \"#4E9C81\", \"#358873\", \"#207567\"]\n",
    "plt.style.use(\"fivethirtyeight\")\n",
    "plt.barh(y1, x1, color = cols, label = y1)\n",
    "plt.rcParams[\"figure.figsize\"] = (13,9)\n",
    "plt.title(\"Sum of items bought based on style\")\n",
    "plt.ylabel(\"Style\")\n",
    "plt.xlabel(\"Total\")\n",
    "plt.tight_layout() \n",
    "\n",
    "for i, v in enumerate(x1):\n",
    "    plt.text(v + 2, i + .05, str(v), color = \"black\", fontweight = \"bold\")\n",
    "plt.show();"
   ]
  },
  {
   "cell_type": "code",
   "execution_count": 29,
   "metadata": {},
   "outputs": [
    {
     "data": {
      "image/png": "[encoded data removed]",
      "text/plain": [
       "<Figure size 936x648 with 1 Axes>"
      ]
     },
     "metadata": {},
     "output_type": "display_data"
    }
   ],
   "source": [
    "group_cat1 = ace.groupby([\"Style\"])\n",
    "grouped = group_cat1[\"Sell\"].agg([\"sum\"])\n",
    "r = grouped.sort_values(\"sum\")\n",
    "x2 = r[\"sum\"].tolist()\n",
    "y2 = r.index.tolist()\n",
    "\n",
    "cols = [\"#B4D6C1\", \"#8DC3A7\", \"#6BAF92\", \"#4E9C81\", \"#358873\", \"#207567\"]\n",
    "plt.style.use(\"fivethirtyeight\")\n",
    "plt.barh(y2, x2, color = cols, label = y2)\n",
    "plt.rcParams[\"figure.figsize\"] = (13,9)\n",
    "plt.title(\"Sum of items sold based on style\")\n",
    "plt.ylabel(\"Style\")\n",
    "plt.xlabel(\"Total\")\n",
    "plt.tight_layout() \n",
    "for i, v in enumerate(x2):\n",
    "    plt.text(v + 1, i + .00, str(v), color = \"black\", fontweight = \"bold\")\n",
    "plt.show();"
   ]
  },
  {
   "cell_type": "code",
   "execution_count": null,
   "metadata": {},
   "outputs": [],
   "source": []
  }
 ],
 "metadata": {
  "kernelspec": {
   "display_name": "Python 3.10.6 64-bit",
   "language": "python",
   "name": "python3"
  },
  "language_info": {
   "codemirror_mode": {
    "name": "ipython",
    "version": 3
   },
   "file_extension": ".py",
   "mimetype": "text/x-python",
   "name": "python",
   "nbconvert_exporter": "python",
   "pygments_lexer": "ipython3",
   "version": "3.10.6"
  },
  "orig_nbformat": 4,
  "vscode": {
   "interpreter": {
    "hash": "26de051ba29f2982a8de78e945f0abaf191376122a1563185a90213a26c5da77"
   }
  }
 },
 "nbformat": 4,
 "nbformat_minor": 2
}
